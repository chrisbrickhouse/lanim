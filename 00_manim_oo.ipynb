{
 "cells": [
  {
   "cell_type": "raw",
   "metadata": {},
   "source": [
    "---\n",
    "title: \"Object-oriented programming and the basics of Manim\"\n",
    "author: \n",
    "  - name: \"Christian Brickhouse\"\n",
    "    url: \"https://christianbrickhouse.com\"\n",
    "    affiliations:\n",
    "      - Stanford University\n",
    "date: 2022-10-2\n",
    "license: \"CC-BY-SA 3.0 or later\"\n",
    "format: \n",
    "  html: default\n",
    "  pdf: default\n",
    "editor: visual\n",
    "---"
   ]
  },
  {
   "cell_type": "code",
   "execution_count": 13,
   "metadata": {
    "collapsed": true,
    "jupyter": {
     "outputs_hidden": true,
     "source_hidden": true
    },
    "tags": [
     "hide-cell"
    ]
   },
   "outputs": [
    {
     "name": "stdout",
     "output_type": "stream",
     "text": [
      "Defaulting to user installation because normal site-packages is not writeable\n",
      "Requirement already satisfied: manim in /home/cj/.local/lib/python3.10/site-packages (0.16.0.post0)\n",
      "Requirement already satisfied: screeninfo<0.9,>=0.8 in /home/cj/.local/lib/python3.10/site-packages (from manim) (0.8.1)\n",
      "Requirement already satisfied: requests<3.0.0,>=2.26.0 in /home/cj/.local/lib/python3.10/site-packages (from manim) (2.28.1)\n",
      "Requirement already satisfied: srt<4.0.0,>=3.5.0 in /home/cj/.local/lib/python3.10/site-packages (from manim) (3.5.2)\n",
      "Requirement already satisfied: Pygments<3.0.0,>=2.10.0 in /usr/lib/python3/dist-packages (from manim) (2.11.2)\n",
      "Requirement already satisfied: decorator<6.0.0,>=5.0.7 in /home/cj/.local/lib/python3.10/site-packages (from manim) (5.1.1)\n",
      "Requirement already satisfied: skia-pathops<0.8.0,>=0.7.0 in /home/cj/.local/lib/python3.10/site-packages (from manim) (0.7.2)\n",
      "Requirement already satisfied: colour<0.2.0,>=0.1.5 in /home/cj/.local/lib/python3.10/site-packages (from manim) (0.1.5)\n",
      "Requirement already satisfied: click>=7.2 in /usr/lib/python3/dist-packages (from manim) (8.0.3)\n",
      "Requirement already satisfied: Pillow<10.0,>=9.1 in /home/cj/.local/lib/python3.10/site-packages (from manim) (9.2.0)\n",
      "Requirement already satisfied: tqdm<5.0.0,>=4.62.3 in /home/cj/.local/lib/python3.10/site-packages (from manim) (4.64.1)\n",
      "Requirement already satisfied: isosurfaces==0.1.0 in /home/cj/.local/lib/python3.10/site-packages (from manim) (0.1.0)\n",
      "Requirement already satisfied: cloup<0.14.0,>=0.13.0 in /home/cj/.local/lib/python3.10/site-packages (from manim) (0.13.1)\n",
      "Requirement already satisfied: moderngl-window<3.0.0,>=2.3.0 in /home/cj/.local/lib/python3.10/site-packages (from manim) (2.4.2)\n",
      "Requirement already satisfied: numpy<2.0,>=1.19 in /home/cj/.local/lib/python3.10/site-packages (from manim) (1.22.0)\n",
      "Requirement already satisfied: networkx<3.0,>=2.5 in /home/cj/.local/lib/python3.10/site-packages (from manim) (2.8.7)\n",
      "Requirement already satisfied: pycairo<2.0,>=1.19 in /usr/lib/python3/dist-packages (from manim) (1.20.1)\n",
      "Requirement already satisfied: click-default-group<2.0.0,>=1.2.2 in /home/cj/.local/lib/python3.10/site-packages (from manim) (1.2.2)\n",
      "Requirement already satisfied: watchdog<3.0.0,>=2.1.6 in /home/cj/.local/lib/python3.10/site-packages (from manim) (2.1.9)\n",
      "Requirement already satisfied: scipy<2.0.0,>=1.7.3 in /usr/lib/python3/dist-packages (from manim) (1.8.0)\n",
      "Requirement already satisfied: rich!=12.0.0,>=6.0 in /home/cj/.local/lib/python3.10/site-packages (from manim) (12.6.0)\n",
      "Requirement already satisfied: manimpango<0.5.0,>=0.4.0.post0 in /home/cj/.local/lib/python3.10/site-packages (from manim) (0.4.1)\n",
      "Requirement already satisfied: moderngl<6.0.0,>=5.6.3 in /home/cj/.local/lib/python3.10/site-packages (from manim) (5.6.4)\n",
      "Requirement already satisfied: pydub<0.26.0,>=0.25.1 in /home/cj/.local/lib/python3.10/site-packages (from manim) (0.25.1)\n",
      "Requirement already satisfied: mapbox-earcut<0.13.0,>=0.12.10 in /home/cj/.local/lib/python3.10/site-packages (from manim) (0.12.11)\n",
      "Requirement already satisfied: glcontext<3,>=2 in /home/cj/.local/lib/python3.10/site-packages (from moderngl<6.0.0,>=5.6.3->manim) (2.3.6)\n",
      "Requirement already satisfied: pyrr<1,>=0.10.3 in /home/cj/.local/lib/python3.10/site-packages (from moderngl-window<3.0.0,>=2.3.0->manim) (0.10.3)\n",
      "Requirement already satisfied: pyglet>=2.0dev23 in /home/cj/.local/lib/python3.10/site-packages (from moderngl-window<3.0.0,>=2.3.0->manim) (2.0b1)\n",
      "Requirement already satisfied: urllib3<1.27,>=1.21.1 in /usr/lib/python3/dist-packages (from requests<3.0.0,>=2.26.0->manim) (1.26.5)\n",
      "Requirement already satisfied: charset-normalizer<3,>=2 in /home/cj/.local/lib/python3.10/site-packages (from requests<3.0.0,>=2.26.0->manim) (2.1.1)\n",
      "Requirement already satisfied: idna<4,>=2.5 in /usr/lib/python3/dist-packages (from requests<3.0.0,>=2.26.0->manim) (3.3)\n",
      "Requirement already satisfied: certifi>=2017.4.17 in /usr/lib/python3/dist-packages (from requests<3.0.0,>=2.26.0->manim) (2020.6.20)\n",
      "Requirement already satisfied: commonmark<0.10.0,>=0.9.0 in /home/cj/.local/lib/python3.10/site-packages (from rich!=12.0.0,>=6.0->manim) (0.9.1)\n",
      "Requirement already satisfied: multipledispatch in /home/cj/.local/lib/python3.10/site-packages (from pyrr<1,>=0.10.3->moderngl-window<3.0.0,>=2.3.0->manim) (0.6.0)\n",
      "Requirement already satisfied: six in /usr/lib/python3/dist-packages (from multipledispatch->pyrr<1,>=0.10.3->moderngl-window<3.0.0,>=2.3.0->manim) (1.16.0)\n"
     ]
    }
   ],
   "source": [
    "#|echo: false\n",
    "#|output: false\n",
    "# Install a pip package in the current Jupyter kernel\n",
    "import sys\n",
    "!{sys.executable} -m pip install manim"
   ]
  },
  {
   "cell_type": "markdown",
   "metadata": {},
   "source": [
    "Manim is a *programatic* animation software which separates it from other animation software you might be familiar with. A common way to make animations is using PowerPoint or LibreOffice Present where text or images are placed on the slide and you can select options for how they should move, fade in, rotate, and transform. This kind of *graphical* animation software shows you the objects you are working with, how they are aranged. It allows you to move them around with your mouse and select animations from a toolbar or contextual menu. Manim, by contrast, is *programatic* in the sense that animations are created by writing source code which you render later. Instead of creating a circle by clicking a tool and drawing it to be the size you want, in Manim you define a circle with particular parameters like `Circle(radius=2)` which creates a circle with a radius of 2 units. To animate the circle, you transform that circle *object* using functions. At the end, you render the circle and *then* you get to see how the animation looks.\n",
    "\n",
    "This probably sounds more complicated than just making some slides and animating the text and drawings there, and you'd be right! Manim gives you fine-grained control over your drawings and animations, but this creative freedom translates to a complex and powerful tool. For simple animations, other software will probably be sufficient, and you should consider the trade-offs when choosing an animation software. All that said, Manim allows you to create engaging and professional-looking visualizations and with some time and dedication, you will be able to make compelling animations in an afternoon!\n",
    "\n",
    "In this chapter, we will explore the basic building blocks of Manim and develop an intuition for how to programatically manipulate objects. "
   ]
  },
  {
   "cell_type": "markdown",
   "metadata": {},
   "source": [
    "## Object-oriented programming\n",
    "If you've done some programming you might have heard of **object-oriented programming** (OOP). A full description is beyond the scope of this tutorial, but what is important to understand is that OOP is a paradigm which focuses on *object* and how to manipulate them, rather than the functions and logic underlying the object. To illustrate the difference between OOP and functional programming, let's consider an example.\n",
    "\n",
    "You have a big enrollment and want some way to keep track of your students' information. For some reason you decide to use python for this task. Your roster looks like the following:\n",
    "* Amy Abstract, 2028, Astronomy\n",
    "* Billy Bar, 2027, Botany\n",
    "* Catherine Class, 2028, Chemistry\n",
    "* David Demo, 2024, Divinity Studies\n",
    "* Emelia Example, 2025, Economics\n",
    "\n",
    "How would you store this information in python? Put another way, what would your data structure be? A reasonable solution would be a dictionary. The keys are student names and the values are an ordered pair (important that his be a list because tuples are immutable) with the year first and major second.\n"
   ]
  },
  {
   "cell_type": "code",
   "execution_count": null,
   "metadata": {},
   "outputs": [],
   "source": [
    "roster = {\n",
    "    'Amy Abstract': [2028,'Astronomy'],\n",
    "    'Billy Bar': [2027, 'Botany'],\n",
    "    'Catherine Class': [2028, 'Chemistry'],\n",
    "    'David Demo': [2024, 'Divinity Studies'],\n",
    "    'Emilia Example': [2025, 'Economics']\n",
    "}"
   ]
  },
  {
   "cell_type": "markdown",
   "metadata": {},
   "source": [
    "And this works well for a while. Any time you need to look up information on a student, you just run `roster[name]` to get their major and year. But as the term goes on, you realize that your information needs to be updated. David is graduating early. Billy changed his major to Biology. A student comes out to you as non-binary and wants to be referred to as A Abstract instead of their former name (you should probably also add a field for pronouns too). You don't want to have to go in and edit the whole dictionary by hand, so how do you update the dictioanry programmatically? One common solution might look like the following code."
   ]
  },
  {
   "cell_type": "code",
   "execution_count": null,
   "metadata": {},
   "outputs": [],
   "source": [
    "roster['David Demo'][0] = 2022\n",
    "roster['Billy Bar'][1] = 'Biology'\n",
    "roster['A Abstract'] = roster.pop('Amy Abstract')"
   ]
  },
  {
   "cell_type": "markdown",
   "metadata": {},
   "source": [
    "And this sorta works, but it's not much better than editing the dictionary by hand. How would you even add a field for pronouns to this? You'd have to extend the tuple for every entry, and at that point you might as well just rewrite the dictionary definition from scratch. The code is also not very clear and might be confusing later on, for example we use `[0]` and `[1]` to identify year and major which isn't obvious. There's got to be a better way!\n",
    "\n",
    "The solution is to reconsider our data structure and how we decided to store this information in the first place. What if, instead of representing each student as a list of entries, what if we treated them as an object: a bundle of data and functions which operate on that data. In Python, objects usually take the form of a **class**, and below we have an example class, `Student`, which we can use to represent students enrolled in our class."
   ]
  },
  {
   "cell_type": "code",
   "execution_count": null,
   "metadata": {},
   "outputs": [],
   "source": [
    "#|code-line-numbers: true\n",
    "class Student(object):  \n",
    "    def __init__(self, name, year, major):\n",
    "        \"\"\"When a new student is created, \n",
    "        we store the information given on creation\n",
    "        \"\"\"\n",
    "        self.name  = name\n",
    "        self.year  = year\n",
    "        self.major = major\n",
    "        \n",
    "    def change_major(self, new_major):\n",
    "        self.major = new_major\n",
    "    \n",
    "    def advance_year(self):\n",
    "        self.year += 1\n",
    "        \n",
    "    def change_name(self, new_name):\n",
    "        self.name = new_name"
   ]
  },
  {
   "cell_type": "markdown",
   "metadata": {},
   "source": [
    "This is more complicated than the dictionary-of-lists approach, but it is also far more powerful and intuitive. We can see that once we start to use it. Let's initialize our data."
   ]
  },
  {
   "cell_type": "code",
   "execution_count": null,
   "metadata": {},
   "outputs": [],
   "source": [
    "#|code-line-numbers: true\n",
    "a = Student('Amy Abstract', 2028, 'Astronomy')\n",
    "b = Student('Billy Bar', 2027, 'Botany')\n",
    "c = Student('Catherine Class', 2028, 'Chemistry')\n",
    "d = Student('David Demo', 2024, 'Divinity Studies')\n",
    "e = Student('Emilia Example', 2025, 'Economics')\n",
    "roster = [a,b,c,d,e]"
   ]
  },
  {
   "cell_type": "markdown",
   "metadata": {},
   "source": [
    "While the set-up isn't much better than the dictionary solution, it does have the benefit of being clear about *what* these objects are: students. As a dictionary, that was information you needed to already know if you wanted to understand the data structure, but here, each packet of data is explicitly identified as a student as a side-effect of instnatiating the class. The benefits of this approach become more obvious once we start making changes later in the term."
   ]
  },
  {
   "cell_type": "code",
   "execution_count": null,
   "metadata": {},
   "outputs": [],
   "source": [
    "#|code-line-numbers: true\n",
    "d.year = 2022\n",
    "b.change_major('Biology')\n",
    "a.change_name('A Abstract')\n",
    "a.pronouns = 'they/them'"
   ]
  },
  {
   "cell_type": "markdown",
   "metadata": {},
   "source": [
    "In a lot of ways, this is similar to our example using a dictionary, but notice how clear this code is. It's obvious that we're changing David's graduation year because we're changing the value of `year`. It's obvious we're changing the major of Billy and the name of A because we are using functions that *tell us* what they are doing. You'll also notice that even though we didn't define pronouns in the class, we can simply add A's pronouns after the fact without affecting the data structure for the rest of the students. That said, adding attributes after-the-fact like this is a bad idea. It's better to modify the class to include a pronouns attribute with a default value and update it later if needed."
   ]
  },
  {
   "cell_type": "markdown",
   "metadata": {},
   "source": [
    "### Major principles in OOP (Patterns)\n",
    "The example given above illustrates a number of principles which will be helpful to keep in mind when working with Manim, structuring your code, and manipulating objects. In software programming, similar problems arise all the time, and certain solutions have shown to be better than others. These solutions are called **patterns** and they articulate principles of good software design. Patterns contrast with **anti-patterns** which are attractive solutions (like our dictionary roster) which ultimately cause more problems later on. In this section we explore some OOP principles and design patterns.\n",
    "\n",
    "* **Abstraction** focuses on abstracting the *implementation* of a function from the *interface* of the function. For example, a `Student.change_name()` is a function which changes the `Student.name` attribute. How it does this is unimportant, and in fact, we can change it at any time. By creating a function instead of changing the attribute directly, we have created a level of abstraction. We can now call `Student.change_name()` and *always* know that no matter what, the student's name will be changed---we can change names without needing to worry about *how* to change names. \n",
    "* **Encapsulation** is a design pattern which focuses on keeping objects self-contained. Each object should have everything it needs to work inside of it already, and things outside the object (users, programs, other objects) should only ever interact with the object through well defined and predictable methods. Changing the name of one student-object should not affect the others, for example. By encapsulating objects, we prevent unintended or unknown data corruption and make debugging easier by limiting how parts of a program are allowed to interact.\n",
    "* **Inheritance** represents hierarchical relationships between objects. For example, all students are people, but not all people are students. We could have `class Person(object)` which has attributes and functions for names and pronouns, but not major or graduation year. Instead of rewriting all that code for students, we could *inherit* the features of the `Person` class and then *extend* student-specific features in this new class. This is used frequently in Manim and will turn out to be quite powerful. "
   ]
  },
  {
   "cell_type": "markdown",
   "metadata": {},
   "source": [
    "## The building blocks of Manim\n"
   ]
  },
  {
   "cell_type": "code",
   "execution_count": 11,
   "metadata": {},
   "outputs": [],
   "source": [
    "#|code-line-numbers: true\n",
    "from manim import *\n",
    "\n",
    "class SquareExample(Scene):\n",
    "    def construct(self):\n",
    "        square = Square()\n",
    "        self.play(Create(square))\n",
    "        self.wait(2)"
   ]
  },
  {
   "cell_type": "code",
   "execution_count": 12,
   "metadata": {
    "tags": [
     "hide-input"
    ]
   },
   "outputs": [
    {
     "name": "stderr",
     "output_type": "stream",
     "text": [
      "                                                                                                                                                                           \r"
     ]
    },
    {
     "data": {
      "text/html": [
       "<video controls autoplay loop style=\"max-width: 75%;\"  >\n",
       " <source src=\"data:video/mp4;base64,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\" type=\"video/mp4\">\n",
       " Your browser does not support the video tag.\n",
       " </video>"
      ],
      "text/plain": [
       "<IPython.core.display.Video object>"
      ]
     },
     "metadata": {},
     "output_type": "display_data"
    }
   ],
   "source": [
    "#|echo: false\n",
    "%manim -v WARNING --disable_caching -qm SquareExample\n",
    "\n",
    "config.media_width = \"75%\"\n",
    "config.media_embed = True"
   ]
  },
  {
   "cell_type": "code",
   "execution_count": null,
   "metadata": {},
   "outputs": [],
   "source": []
  }
 ],
 "metadata": {
  "kernelspec": {
   "display_name": "Python 3",
   "language": "python",
   "name": "python3"
  },
  "language_info": {
   "codemirror_mode": {
    "name": "ipython",
    "version": 3
   },
   "file_extension": ".py",
   "mimetype": "text/x-python",
   "name": "python",
   "nbconvert_exporter": "python",
   "pygments_lexer": "ipython3",
   "version": "3.10.4"
  },
  "vscode": {
   "interpreter": {
    "hash": "4d01b309187e84f3435a3cf12d5087bc1a5396f7f0d17fbed6d71585ac16e6e2"
   }
  }
 },
 "nbformat": 4,
 "nbformat_minor": 4
}
